{
  "nbformat": 4,
  "nbformat_minor": 0,
  "metadata": {
    "colab": {
      "provenance": []
    },
    "kernelspec": {
      "name": "python3",
      "display_name": "Python 3"
    },
    "language_info": {
      "name": "python"
    }
  },
  "cells": [
    {
      "cell_type": "code",
      "execution_count": null,
      "metadata": {
        "id": "ic4a8FlK1nNi"
      },
      "outputs": [],
      "source": [
        "import numpy as np\n",
        "import matplotlib.pyplot as plt\n",
        "def func(x):\n",
        "    return (2*x)*np.exp(4*x)\n",
        "a = float(input('Batas bawah(a) = '))   #a = 1.0\n",
        "b = float(input('Batas atas (b) = '))   #b = 10.0\n",
        "n = int (input('Jumlah grid (n) = '))   #n = divariasikan dimulai dari 10, 100, 1000\n",
        "\n",
        "#Trapezoid\n",
        "dx = (b-a)/(n-1)\n",
        "x = np.linspace(a,b,n)\n",
        "sigma = 0\n",
        "for i in range (1, n-1):\n",
        "    sigma += func(x[i])\n",
        "hasil = 0.5*dx*(func(x[0])+2*sigma+func(x[-1]))\n",
        "print('Hasil = ', hasil)\n",
        "\n",
        "xp = np.linspace(a,b)\n",
        "plt.plot(xp, func(xp))\n",
        "\n",
        "for i in range (n):\n",
        "    plt.bar(x[i], func(x[i]), align='edge', width=0.000001, color = 'gray', edgecolor = 'red')\n",
        "\n",
        "plt.fill_between(x,func(x), color = 'yellow')\n",
        "plt.show()"
      ]
    }
  ]
}